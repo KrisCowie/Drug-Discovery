{
 "cells": [
  {
   "cell_type": "code",
   "execution_count": 1,
   "metadata": {},
   "outputs": [],
   "source": [
    "import numpy as np\n",
    "import pandas as pd"
   ]
  },
  {
   "cell_type": "code",
   "execution_count": 2,
   "metadata": {},
   "outputs": [],
   "source": [
    "train_features = pd.read_csv('train_features.csv')\n",
    "test_features = pd.read_csv('test_features.csv')"
   ]
  },
  {
   "cell_type": "code",
   "execution_count": 4,
   "metadata": {},
   "outputs": [],
   "source": [
    "GENES = [g for g in train_features.columns if g.startswith(\"g-\")]\n",
    "# print(f\"Number of gene features: {len(GENES)}\")\n",
    "CELLS = [c for c in train_features.columns if c.startswith(\"c-\")]\n",
    "# print(f\"Number of cell features: {len(CELLS)}\")"
   ]
  },
  {
   "cell_type": "code",
   "execution_count": 3,
   "metadata": {},
   "outputs": [],
   "source": [
    "# Feature Engineering - Important Gene features, create new by squaring them\n",
    "gsquarecols=['g-574','g-211','g-216','g-0','g-255','g-577','g-153','g-389','g-60','g-370','g-248','g-167','g-203','g-177','g-301','g-332','g-517','g-6','g-744','g-224','g-162','g-3','g-736','g-486','g-283','g-22','g-359','g-361','g-440','g-335','g-106','g-307','g-745','g-146','g-416','g-298','g-666','g-91','g-17','g-549','g-145','g-157','g-768','g-568','g-396']"
   ]
  },
  {
   "cell_type": "code",
   "execution_count": 5,
   "metadata": {},
   "outputs": [],
   "source": [
    "def fe_stats(train, test):\n",
    "    \n",
    "    # statistical Features\n",
    "    \n",
    "    features_g = GENES\n",
    "    features_c = CELLS\n",
    "    \n",
    "    for df in train, test:\n",
    "        df['g_sum'] = df[features_g].sum(axis = 1)\n",
    "        df['g_mean'] = df[features_g].mean(axis = 1)\n",
    "        df['g_std'] = df[features_g].std(axis = 1)\n",
    "        df['g_kurt'] = df[features_g].kurtosis(axis = 1)\n",
    "        df['g_skew'] = df[features_g].skew(axis = 1)\n",
    "        df['c_sum'] = df[features_c].sum(axis = 1)\n",
    "        df['c_mean'] = df[features_c].mean(axis = 1)\n",
    "        df['c_std'] = df[features_c].std(axis = 1)\n",
    "        df['c_kurt'] = df[features_c].kurtosis(axis = 1)\n",
    "        df['c_skew'] = df[features_c].skew(axis = 1)\n",
    "        df['gc_sum'] = df[features_g + features_c].sum(axis = 1)\n",
    "        df['gc_mean'] = df[features_g + features_c].mean(axis = 1)\n",
    "        df['gc_std'] = df[features_g + features_c].std(axis = 1)\n",
    "        df['gc_kurt'] = df[features_g + features_c].kurtosis(axis = 1)\n",
    "        df['gc_skew'] = df[features_g + features_c].skew(axis = 1)\n",
    "        \n",
    "        # New Features comprised of strongly correltated cells, average of\n",
    "        df['c62_c42'] = (df['c-62'] + df['c-42']) /2\n",
    "        df['c90_c55'] = (df['c-90'] + df['c-55']) /2\n",
    "        df['c26_c38'] = (df['c-26'] + df['c-38']) /2\n",
    "        df['c63_c42'] = (df['c-63'] + df['c-42']) /2\n",
    "        df['c26_c13'] = (df['c-26'] + df['c-13']) /2\n",
    "        df['c33_c6'] = (df['c-33'] + df['c-6']) /2\n",
    "        df['c11_c55'] = (df['c-11'] + df['c-55']) /2\n",
    "        df['c55_c4'] = (df['c-55'] + df['c-4']) /2\n",
    "        df['c4_c13'] = (df['c-4'] + df['c-13']) /2\n",
    "        df['c82_c42'] = (df['c-82'] + df['c-42']) /2\n",
    "        df['c66_c42'] = (df['c-66'] + df['c-42']) /2\n",
    "        df['c6_c38'] = (df['c-6'] + df['c-38']) /2\n",
    "        df['c2_c13'] = (df['c-2'] + df['c-13']) /2\n",
    "        df['c94_c11'] = (df['c-94'] + df['c-11']) /2\n",
    "        df['c94_c60'] = (df['c-94'] + df['c-60']) /2\n",
    "        df['c55_c42'] = (df['c-55'] + df['c-42']) /2\n",
    "        df['c52_c42'] = (df['c-52'] + df['c-42']) /2\n",
    "        df['c13_c73'] = (df['c-13'] + df['c-73']) /2\n",
    "        df['c38_c63'] = (df['c-38'] + df['c-63']) /2\n",
    "        df['c38_c94'] = (df['c-38'] + df['c-94']) /2\n",
    "        df['c13_c94'] = (df['c-13'] + df['c-94']) /2\n",
    "        df['c4_c52'] = (df['c-4'] + df['c-52']) /2\n",
    "        df['c4_c42'] = (df['c-4'] + df['c-42']) /2\n",
    "        df['c13_c38'] = (df['c-13'] + df['c-38']) /2\n",
    "        df['c55_c2'] = (df['c-55'] + df['c-2']) /2\n",
    "        df['c90_c13'] = (df['c-90'] + df['c-13']) /2\n",
    "        df['c85_c31'] = (df['c-85'] + df['c-31']) /2\n",
    "        \n",
    "        #New Features Comprised of strongly correlated genes, average of\n",
    "        df['g37_g50'] = (df['g-37'] + df['g-50']) /2\n",
    "        df['g369_g-569'] = (df['g-369'] + df['g-569']) /2\n",
    "        df['g349_g460'] = (df['g-469'] + df['g-349']) /2\n",
    "        df['g50_g489'] = (df['g-50'] + df['g-489']) /2\n",
    "        df['g37_g489'] = (df['g-37'] + df['g-489']) /2\n",
    "        df['g63_g195'] = (df['g-63'] + df['g-195']) /2\n",
    "        df['g121_g672'] = (df['g-121'] + df['g-672']) /2\n",
    "        df['g37_g672'] = (df['g-37'] + df['g-672']) /2\n",
    "        # Import Gene columns, new features from\n",
    "        for feature in features_c:\n",
    "             df[f'{feature}_squared'] = df[feature] ** 2     \n",
    "                \n",
    "        for feature in gsquarecols:\n",
    "            df[f'{feature}_squared'] = df[feature] ** 2 \n",
    "        \n",
    "    return train, test\n",
    "\n",
    "train_feature_new,test_feature_new=fe_stats(train_features,test_features)"
   ]
  },
  {
   "cell_type": "code",
   "execution_count": 6,
   "metadata": {},
   "outputs": [],
   "source": [
    "train_feature_new.to_csv('train_feats_new.csv')\n",
    "test_feature_new.to_csv('test_feats_new.csv')"
   ]
  },
  {
   "cell_type": "code",
   "execution_count": null,
   "metadata": {},
   "outputs": [],
   "source": []
  }
 ],
 "metadata": {
  "kernelspec": {
   "display_name": "Python 3",
   "language": "python",
   "name": "python3"
  },
  "language_info": {
   "codemirror_mode": {
    "name": "ipython",
    "version": 3
   },
   "file_extension": ".py",
   "mimetype": "text/x-python",
   "name": "python",
   "nbconvert_exporter": "python",
   "pygments_lexer": "ipython3",
   "version": "3.8.5"
  }
 },
 "nbformat": 4,
 "nbformat_minor": 4
}
